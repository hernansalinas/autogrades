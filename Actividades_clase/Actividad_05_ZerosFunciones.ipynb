{
 "cells": [
  {
   "cell_type": "markdown",
   "id": "3a6dc6a1",
   "metadata": {},
   "source": [
    "<a href=\"https://colab.research.google.com/github/hernansalinas/autogrades/blob/main/Actividades_clase/Actividad_05_ZerosFunciones.ipynb\" target=\"_parent\"><img src=\"https://colab.research.google.com/assets/colab-badge.svg\" alt=\"Open In Colab\"/></a>\n",
    "\n",
    "\n",
    "\n",
    "# Actividad 5\n",
    "### Métodos computacionales para físicos  y astrónomos\n",
    "### Universidad de Antioquia\n",
    "### Prof: Hernan D. Salinas Jiménez\n",
    "Ref: https://github.com/restrepo/ComputationalMethods"
   ]
  },
  {
   "cell_type": "markdown",
   "id": "8e59c672",
   "metadata": {},
   "source": [
    "\n",
    "In an IPython notebook, use the scipy implementation and find the first solution to the equation, write a function with the bisection methods.\n",
    "\n",
    "What is the solution if a=1, and b=1, what is the solution if a=2 and b=2\n",
    "  \n",
    "1. $ 7 = a\\sqrt{x^2+1}+be^x\\sin x $\n",
    "   \n",
    "\n"
   ]
  },
  {
   "cell_type": "markdown",
   "id": "ee7acda4",
   "metadata": {},
   "source": [
    "  \n",
    " 2. $a e^{x}-2= b\\cos(e^x-2)$"
   ]
  },
  {
   "cell_type": "markdown",
   "id": "a232ecdd",
   "metadata": {},
   "source": [
    "3. Fixed point methods. \n",
    "\n",
    "When a new planet is discovered, there are different methods to estimate its physical properties. Many times is only possible to estimate either the planet mass or the planet radius and the other property has to be predicted through computer modelling.\n",
    "\n",
    "If one has the planet mass, a very rough way to estimate its radius is to assume certain composition (mean density) and a homogeneous distribution (a very bad assumption!). For example, for the planet [Gliese 832c](http://es.wikipedia.org/wiki/Gliese_832_c) with a mass $M= 5.40 M_{\\oplus}$, if we assume an earth-like composition, i.e. $\\bar \\rho_{\\oplus} = 5520\\ kg/m^3$, we obtain:\n",
    "\n",
    "$$R_{g832c} = \\left( \\frac{3 M_{g832c}}{ 4 \\pi \\bar\\rho_{\\oplus} } \\right)^{1/3} \\approx 1.75 R_{\\oplus}$$\n",
    "\n",
    "That would be the planet radius if the composition where exactly equal to earth's.\n",
    "\n",
    "A more realistic approach is assuming an internal one-layer density profile like:\n",
    "\n",
    "$$\\rho(r) = \\rho_0 \\exp\\left( -\\frac{r}{L} \\right)$$\n",
    "\n",
    "where $\\rho_0$ is the density at planet centre and $L$ is a characteristic lenght depending on the composition. From numerical models of planet interiors, the estimated parameters for a planet of are $M= 5.40 M_{\\oplus}$ are approximately $\\rho_0 = 18000\\ kg/m^3$ and $L = 6500\\ km$.\n",
    "\n",
    "Integrating over the planet volume, we obtain the total mass as\n",
    "\n",
    "$$M = 4\\pi \\int_0^R \\rho(r)r^2dr$$\n",
    "\n",
    "This is a function of the mass in terms of the planet radius. \n",
    "\n",
    "Solving the equation $M(R) = M_{g832c}$ it would be possible to find a more realistic planet radius. However when using numerical models, it is not possible to approach the solution from the left side as a negative mass makes no sense."
   ]
  },
  {
   "cell_type": "markdown",
   "id": "d6060db6",
   "metadata": {},
   "source": [
    "3. **ACTIVITY** \n",
    "    \n",
    "In an IPython notebook and based on the routine NewtonRaphson, write your own routine SecantMethod that performs the previous steps for the Secant Method. Test your code with the function $f(x)$:\n",
    "    \n",
    "$f(x) = x - \\cos(x)$\n",
    "</font>"
   ]
  },
  {
   "cell_type": "markdown",
   "id": "08b04566",
   "metadata": {},
   "source": [
    "4. **ACTIVITY** \n",
    "\n",
    "\n",
    "It is known that light rays are deflected when they pass near by a gravitational field and that this deviation is proportional to the body mass which the light is interacting with and inversely proportional to the passing distance. \n",
    "Since it is common finding very massive structures in the universe and the measures that are done to study it involve photons, it makes sense to study what happens to a light source image when the rays get close to a grumpy object like a dark matter halo.  \n",
    "\n",
    "\n",
    "In order to study the light deflection in these cases, it will be used the simplest model, gravitational lens theory, where the len is a very massive object. A sketch of a typical system is shown in the figure below. The source plane is the light source or image that is going to be affected,  $\\eta$ is the distance from a image point to the line of sight and $\\beta$ the subtended angle by the point. \n",
    "The lens plane corresponds to the mass that affects the light coming from the source, $\\xi$ is the new image point distance to the line of sight, $\\theta$ is the subtended angle by the new point position. Then, $\\alpha$ is the deflection angle. \n",
    "\n",
    "Since from observations $\\theta$ is known, the problem to be solved per pixel usually is \n",
    "\n",
    "\\begin{equation}\n",
    "\\beta = \\theta - \\hat{\\alpha}(\\theta) \n",
    "\\end{equation}\n",
    "\n",
    "but $\\alpha$ also depends on $\\theta$ besides the len halo properties. This would allow construct the real image\n",
    "from the distorted and magnified one. \n",
    "\n",
    "<img src=\"https://github.com/restrepo/ComputationalMethods/blob/master/material/figures/lente1.png?raw=1\">\n",
    "\n",
    "This equation can also be written in terms of distances \n",
    "\n",
    "\\begin{equation}\n",
    "\\vec{\\eta}  = \\frac{D_s}{D_d} \\vec{\\xi} - D_{ds}\\alpha ( \\vec{\\xi }) \n",
    "\\end{equation}\n",
    "\n",
    "The solution to the lens equation is easier to get if it is assumed that the len is axially symmetric. In this case, the deflection angle  takes the next form\n",
    "\n",
    "$$ \\hat{\\alpha}(\\vec{\\xi}) = \\frac{\\vec{\\xi}}{|\\vec{\\xi}|^2} \\frac{8G\\pi}{c^2} \\int_0^\\xi d\\xi'\\xi'\\Sigma(\\xi')$$\n",
    "\n",
    "The quantity $\\Sigma$ is the surface mass density, i.e., the len's mass enclosed inside $\\xi$ circle per area unit.  \n",
    "It is important to notice that the direction of $\\alpha$ is the same as $\\xi$ and consequently $\\eta$. \n",
    "\n",
    "\n",
    "The problem to be solved is the next: Given the positions of a square find the image distorsion due to gravitational lensing, i.e., find the root of \\xi in the trascendal equation it satisfies. Use the routines given below and all of \n",
    "the data for the len and image that is going to be distorted. \n"
   ]
  }
 ],
 "metadata": {
  "kernelspec": {
   "display_name": "Python 3 (ipykernel)",
   "language": "python",
   "name": "python3"
  },
  "language_info": {
   "codemirror_mode": {
    "name": "ipython",
    "version": 3
   },
   "file_extension": ".py",
   "mimetype": "text/x-python",
   "name": "python",
   "nbconvert_exporter": "python",
   "pygments_lexer": "ipython3",
   "version": "3.8.12"
  }
 },
 "nbformat": 4,
 "nbformat_minor": 5
}
